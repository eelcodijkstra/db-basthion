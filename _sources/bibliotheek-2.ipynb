{
 "cells": [
  {
   "cell_type": "markdown",
   "id": "ef6da74e-519b-462e-9063-a957e6b9d43d",
   "metadata": {},
   "source": [
    "# Bibliotheek: combineren van tabellen"
   ]
  },
  {
   "cell_type": "markdown",
   "id": "1444b176-f0ba-4efc-af4a-381800cbfb6b",
   "metadata": {},
   "source": [
    "Onderstaande opdracht alleen uitvoeren in Jupyter, niet in Basthon:"
   ]
  },
  {
   "cell_type": "code",
   "execution_count": 2,
   "id": "7a022a07-af8d-48a2-8f54-130f99a9ffc8",
   "metadata": {},
   "outputs": [],
   "source": [
    "%LOAD data/bibliotheek.db"
   ]
  },
  {
   "cell_type": "code",
   "execution_count": 3,
   "id": "e4f869f8-053d-4f33-a463-aaea3f561871",
   "metadata": {},
   "outputs": [
    {
     "data": {
      "text/html": [
       "<table>\n",
       "<tr>\n",
       "<th>ACHTERNAAM</th>\n",
       "<th>VOORNAAM</th>\n",
       "<th>STRAAT</th>\n",
       "</tr>\n",
       "<tr>\n",
       "<td>Aalbers</td>\n",
       "<td>Monique</td>\n",
       "<td>Lange Uitweg</td>\n",
       "</tr>\n",
       "<tr>\n",
       "<td>Abdoulai</td>\n",
       "<td>Sahila</td>\n",
       "<td>Berkelstraat</td>\n",
       "</tr>\n",
       "<tr>\n",
       "<td>Abdulkadir</td>\n",
       "<td>Fatma</td>\n",
       "<td>Kastelenplantsoen</td>\n",
       "</tr>\n",
       "<tr>\n",
       "<td>Abloukie</td>\n",
       "<td>Nourdine</td>\n",
       "<td>Potgieterstraat</td>\n",
       "</tr>\n",
       "<tr>\n",
       "<td>Baarman</td>\n",
       "<td>Glenn</td>\n",
       "<td>Berkelstraat</td>\n",
       "</tr>\n",
       "<tr>\n",
       "<td>Bakker</td>\n",
       "<td>Jantine</td>\n",
       "<td>Kasteelstraat</td>\n",
       "</tr>\n",
       "<tr>\n",
       "<td>Bakker</td>\n",
       "<td>Frits</td>\n",
       "<td>Herenweg</td>\n",
       "</tr>\n",
       "</table>"
      ],
      "text/plain": [
       "+------------+----------+-------------------+\n",
       "| ACHTERNAAM | VOORNAAM | STRAAT            |\n",
       "+------------+----------+-------------------+\n",
       "| Aalbers    | Monique  | Lange Uitweg      |\n",
       "+------------+----------+-------------------+\n",
       "| Abdoulai   | Sahila   | Berkelstraat      |\n",
       "+------------+----------+-------------------+\n",
       "| Abdulkadir | Fatma    | Kastelenplantsoen |\n",
       "+------------+----------+-------------------+\n",
       "| Abloukie   | Nourdine | Potgieterstraat   |\n",
       "+------------+----------+-------------------+\n",
       "| Baarman    | Glenn    | Berkelstraat      |\n",
       "+------------+----------+-------------------+\n",
       "| Bakker     | Jantine  | Kasteelstraat     |\n",
       "+------------+----------+-------------------+\n",
       "| Bakker     | Frits    | Herenweg          |\n",
       "+------------+----------+-------------------+"
      ]
     },
     "execution_count": 3,
     "metadata": {},
     "output_type": "execute_result"
    }
   ],
   "source": [
    "SELECT achternaam, voornaam, straat\n",
    "FROM leerlingen\n",
    "ORDER BY achternaam\n",
    "LIMIT 7;"
   ]
  },
  {
   "cell_type": "markdown",
   "id": "b079ee8f-cec8-4bd9-ac71-bfe6c8c49187",
   "metadata": {},
   "source": [
    "```{admonition} Opdrachten\n",
    "\n",
    "1. Maak een lijst van auteurs en de titels van hun boeken die in de bibliotheek zijn.\n",
    "\n",
    "2. Maak een lijst van leerlingen en de boetes die ze hebben betaald. Zorg dat de uitleningen zonder boete (in de tabel staat dan 0,00 onder boete) niet in de tabel voorkomen\n",
    "\n",
    "3. Welke boeken zijn er in de bibliotheek van schrijvers uit de negentiende eeuw?\n",
    "\n",
    "4. Van welke auteurs zijn er boeken in reparatie?\n",
    "\n",
    "5. Maak een overzicht van alle boeken uit de categorie Nederlands die uitgeleend zijn aan leerlingen uit de zesde klas. Zorg dat de naam van de leerling en titel en auteur van het boek in het resultaat staan.\n",
    "```"
   ]
  },
  {
   "cell_type": "markdown",
   "id": "10e9843b-f9e1-40fd-82a9-fac2b8866704",
   "metadata": {},
   "source": [
    "> Maak een lijst van auteurs en de titels van hun boeken die in de bibliotheek zijn.\n",
    "\n",
    "In de eerste kolom voegen we de onderdelen van de naam van een auteur samen tot één string.\n",
    "We sorteren de auteurs op achternaam.\n",
    "\n",
    "*Opmerking.* Het is niet voldoende om alleen de tabel \"boeken\" te gebruiken, we moeten als voorwaarde ook toevoegen dat er een exemplaar van dat boek in de bibliotheek aanwezig is. (We kunnen eventueel een extra kolom toevoegen met het aantal exemplaren.)"
   ]
  },
  {
   "cell_type": "code",
   "execution_count": 4,
   "id": "7589aa18-ff40-4950-a707-c6ff2bf9119d",
   "metadata": {},
   "outputs": [
    {
     "data": {
      "text/html": [
       "<table>\n",
       "<tr>\n",
       "<th>Auteur</th>\n",
       "<th>Titel</th>\n",
       "<th>Aantal</th>\n",
       "</tr>\n",
       "<tr>\n",
       "<td>Hella  Haasse</td>\n",
       "<td>Oeroeg</td>\n",
       "<td>3</td>\n",
       "</tr>\n",
       "<tr>\n",
       "<td>Willem Frederik  Hermans</td>\n",
       "<td>Nooit meer Slapen</td>\n",
       "<td>3</td>\n",
       "</tr>\n",
       "<tr>\n",
       "<td>Gerard  Reve</td>\n",
       "<td>De Avonden</td>\n",
       "<td>3</td>\n",
       "</tr>\n",
       "<tr>\n",
       "<td>Marga  Minco</td>\n",
       "<td>Het bittere kruid</td>\n",
       "<td>3</td>\n",
       "</tr>\n",
       "<tr>\n",
       "<td>Harry  Mulisch</td>\n",
       "<td>De aanslag</td>\n",
       "<td>3</td>\n",
       "</tr>\n",
       "<tr>\n",
       "<td>Willem Frederik  Hermans</td>\n",
       "<td>De donkere kamer van Damocles</td>\n",
       "<td>3</td>\n",
       "</tr>\n",
       "<tr>\n",
       "<td>Renate  Dorrestein</td>\n",
       "<td>Het hemelse gerecht</td>\n",
       "<td>2</td>\n",
       "</tr>\n",
       "</table>"
      ],
      "text/plain": [
       "+--------------------------+-------------------------------+--------+\n",
       "| Auteur                   | Titel                         | Aantal |\n",
       "+--------------------------+-------------------------------+--------+\n",
       "| Hella  Haasse            | Oeroeg                        | 3      |\n",
       "+--------------------------+-------------------------------+--------+\n",
       "| Willem Frederik  Hermans | Nooit meer Slapen             | 3      |\n",
       "+--------------------------+-------------------------------+--------+\n",
       "| Gerard  Reve             | De Avonden                    | 3      |\n",
       "+--------------------------+-------------------------------+--------+\n",
       "| Marga  Minco             | Het bittere kruid             | 3      |\n",
       "+--------------------------+-------------------------------+--------+\n",
       "| Harry  Mulisch           | De aanslag                    | 3      |\n",
       "+--------------------------+-------------------------------+--------+\n",
       "| Willem Frederik  Hermans | De donkere kamer van Damocles | 3      |\n",
       "+--------------------------+-------------------------------+--------+\n",
       "| Renate  Dorrestein       | Het hemelse gerecht           | 2      |\n",
       "+--------------------------+-------------------------------+--------+"
      ]
     },
     "execution_count": 4,
     "metadata": {},
     "output_type": "execute_result"
    }
   ],
   "source": [
    "SELECT auteur.voornaam || \" \" || auteur.tussenvoegsel || \" \" || auteur.achternaam Auteur, boek.titel Titel, count(*) Aantal\n",
    "FROM auteurs auteur, boeken boek, exemplaren ex\n",
    "WHERE auteur.auteurnr = boek.autnr AND ex.boeknr = boek.boeknr\n",
    "GROUP BY boek.boeknr\n",
    "ORDER BY Aantal DESC\n",
    "LIMIT 7;"
   ]
  },
  {
   "cell_type": "code",
   "execution_count": 5,
   "id": "81f05aad-475f-4cb2-889e-89258fc219d8",
   "metadata": {},
   "outputs": [
    {
     "data": {
      "text/html": [
       "<table>\n",
       "<tr>\n",
       "<th>Auteur</th>\n",
       "<th>Titel</th>\n",
       "</tr>\n",
       "<tr>\n",
       "<td>Richard  Adams</td>\n",
       "<td>The Plague Dogs</td>\n",
       "</tr>\n",
       "<tr>\n",
       "<td>Richard  Adams</td>\n",
       "<td>Watership Down</td>\n",
       "</tr>\n",
       "<tr>\n",
       "<td>Richard  Adams</td>\n",
       "<td>The Plague Dogs</td>\n",
       "</tr>\n",
       "<tr>\n",
       "<td>Richard  Adams</td>\n",
       "<td>Watership Down</td>\n",
       "</tr>\n",
       "<tr>\n",
       "<td>Richard  Adams</td>\n",
       "<td>The Plague Dogs</td>\n",
       "</tr>\n",
       "<tr>\n",
       "<td>Richard  Adams</td>\n",
       "<td>Watership Down</td>\n",
       "</tr>\n",
       "<tr>\n",
       "<td>Richard  Adams</td>\n",
       "<td>The Plague Dogs</td>\n",
       "</tr>\n",
       "</table>"
      ],
      "text/plain": [
       "+----------------+-----------------+\n",
       "| Auteur         | Titel           |\n",
       "+----------------+-----------------+\n",
       "| Richard  Adams | The Plague Dogs |\n",
       "+----------------+-----------------+\n",
       "| Richard  Adams | Watership Down  |\n",
       "+----------------+-----------------+\n",
       "| Richard  Adams | The Plague Dogs |\n",
       "+----------------+-----------------+\n",
       "| Richard  Adams | Watership Down  |\n",
       "+----------------+-----------------+\n",
       "| Richard  Adams | The Plague Dogs |\n",
       "+----------------+-----------------+\n",
       "| Richard  Adams | Watership Down  |\n",
       "+----------------+-----------------+\n",
       "| Richard  Adams | The Plague Dogs |\n",
       "+----------------+-----------------+"
      ]
     },
     "execution_count": 5,
     "metadata": {},
     "output_type": "execute_result"
    }
   ],
   "source": [
    "SELECT auteur.voornaam || \" \" || auteur.tussenvoegsel || \" \" || auteur.achternaam Auteur, boek.titel Titel\n",
    "FROM auteurs auteur, boeken boek, exemplaren ex\n",
    "WHERE auteur.auteurnr = boek.autnr\n",
    "ORDER BY auteur.achternaam\n",
    "LIMIT 7;"
   ]
  },
  {
   "cell_type": "markdown",
   "id": "6cdbc431-c7ad-457b-a338-14ff6d3c0c70",
   "metadata": {},
   "source": [
    "Van welke boeken zijn er exemplaren in de bibliotheek? Hoeveel?"
   ]
  },
  {
   "cell_type": "code",
   "execution_count": 6,
   "id": "e37e10be-3428-4c87-aa62-6180d024ea25",
   "metadata": {},
   "outputs": [
    {
     "data": {
      "text/html": [
       "<table>\n",
       "<tr>\n",
       "<th>TITEL</th>\n",
       "<th>AANTAL</th>\n",
       "</tr>\n",
       "<tr>\n",
       "<td>Oeroeg</td>\n",
       "<td>3</td>\n",
       "</tr>\n",
       "<tr>\n",
       "<td>Nooit meer Slapen</td>\n",
       "<td>3</td>\n",
       "</tr>\n",
       "<tr>\n",
       "<td>De Avonden</td>\n",
       "<td>3</td>\n",
       "</tr>\n",
       "<tr>\n",
       "<td>Het bittere kruid</td>\n",
       "<td>3</td>\n",
       "</tr>\n",
       "<tr>\n",
       "<td>De aanslag</td>\n",
       "<td>3</td>\n",
       "</tr>\n",
       "<tr>\n",
       "<td>De donkere kamer van Damocles</td>\n",
       "<td>3</td>\n",
       "</tr>\n",
       "<tr>\n",
       "<td>Het hemelse gerecht</td>\n",
       "<td>2</td>\n",
       "</tr>\n",
       "</table>"
      ],
      "text/plain": [
       "+-------------------------------+--------+\n",
       "| TITEL                         | AANTAL |\n",
       "+-------------------------------+--------+\n",
       "| Oeroeg                        | 3      |\n",
       "+-------------------------------+--------+\n",
       "| Nooit meer Slapen             | 3      |\n",
       "+-------------------------------+--------+\n",
       "| De Avonden                    | 3      |\n",
       "+-------------------------------+--------+\n",
       "| Het bittere kruid             | 3      |\n",
       "+-------------------------------+--------+\n",
       "| De aanslag                    | 3      |\n",
       "+-------------------------------+--------+\n",
       "| De donkere kamer van Damocles | 3      |\n",
       "+-------------------------------+--------+\n",
       "| Het hemelse gerecht           | 2      |\n",
       "+-------------------------------+--------+"
      ]
     },
     "execution_count": 6,
     "metadata": {},
     "output_type": "execute_result"
    }
   ],
   "source": [
    "SELECT boek.titel, count(*) AANTAL\n",
    "FROM boeken boek, exemplaren ex\n",
    "WHERE boek.boeknr = ex.boeknr\n",
    "GROUP BY boek.boeknr\n",
    "ORDER BY aantal DESC\n",
    "LIMIT 7;"
   ]
  },
  {
   "cell_type": "markdown",
   "id": "2461196b-3794-4a87-8a8b-84824346b7aa",
   "metadata": {},
   "source": [
    "> Welke boeken zijn er in de bibliotheek van schrijvers uit de negentiende eeuw?\n",
    "\n",
    "Wanneer spreek je van een schrijver uit de negentiende eeuw? Als deze geboren is in die eeuw? Of als die gestorven is in die eeuw? Als je alleen naar de geboortedatum kijkt, zijn bijv. Vestdijk en Slauerhoff 19-e eeuwse auteurs; maar dat is niet de gebuikelijke indeling."
   ]
  },
  {
   "cell_type": "code",
   "execution_count": 7,
   "id": "aa3f3bfd-cf0a-41ce-9246-96eae468a372",
   "metadata": {},
   "outputs": [
    {
     "data": {
      "text/html": [
       "<table>\n",
       "<tr>\n",
       "<th>Auteur</th>\n",
       "<th>Titel</th>\n",
       "</tr>\n",
       "<tr>\n",
       "<td>Marsman</td>\n",
       "<td>Verzamelde Gedichten</td>\n",
       "</tr>\n",
       "<tr>\n",
       "<td>Bordewijk</td>\n",
       "<td>Blokken, Knorrende Besten, Bint</td>\n",
       "</tr>\n",
       "<tr>\n",
       "<td>Bordewijk</td>\n",
       "<td>Karakter</td>\n",
       "</tr>\n",
       "<tr>\n",
       "<td>Nescio</td>\n",
       "<td>De uitvreter - Titaantjes - Dichtertje</td>\n",
       "</tr>\n",
       "<tr>\n",
       "<td>Heyermans</td>\n",
       "<td>Op Hoop van Zegen</td>\n",
       "</tr>\n",
       "<tr>\n",
       "<td>Multatuli</td>\n",
       "<td>Max Havelaar</td>\n",
       "</tr>\n",
       "<tr>\n",
       "<td>Vestdijk</td>\n",
       "<td>De koperen tuin</td>\n",
       "</tr>\n",
       "</table>"
      ],
      "text/plain": [
       "+-----------+----------------------------------------+\n",
       "| Auteur    | Titel                                  |\n",
       "+-----------+----------------------------------------+\n",
       "| Marsman   | Verzamelde Gedichten                   |\n",
       "+-----------+----------------------------------------+\n",
       "| Bordewijk | Blokken, Knorrende Besten, Bint        |\n",
       "+-----------+----------------------------------------+\n",
       "| Bordewijk | Karakter                               |\n",
       "+-----------+----------------------------------------+\n",
       "| Nescio    | De uitvreter - Titaantjes - Dichtertje |\n",
       "+-----------+----------------------------------------+\n",
       "| Heyermans | Op Hoop van Zegen                      |\n",
       "+-----------+----------------------------------------+\n",
       "| Multatuli | Max Havelaar                           |\n",
       "+-----------+----------------------------------------+\n",
       "| Vestdijk  | De koperen tuin                        |\n",
       "+-----------+----------------------------------------+"
      ]
     },
     "execution_count": 7,
     "metadata": {},
     "output_type": "execute_result"
    }
   ],
   "source": [
    "SELECT auteur.achternaam Auteur, boek.titel Titel\n",
    "FROM auteurs auteur, boeken boek\n",
    "WHERE auteur.auteurnr = boek.autnr AND auteur.geb_jaar <= '1900' AND auteur.geb_jaar > '1800'\n",
    "LIMIT 7;\n"
   ]
  },
  {
   "cell_type": "code",
   "execution_count": 8,
   "id": "a640fec7-98ec-4815-b8f2-f2f85baf117e",
   "metadata": {},
   "outputs": [
    {
     "data": {
      "text/html": [
       "<table>\n",
       "<tr>\n",
       "<th>AUTEURNR</th>\n",
       "<th>VOORNAAM</th>\n",
       "<th>VOORLETTERS</th>\n",
       "<th>TUSSENVOEGSEL</th>\n",
       "<th>ACHTERNAAM</th>\n",
       "<th>GEB_JAAR</th>\n",
       "<th>STERF_JAAR</th>\n",
       "</tr>\n",
       "<tr>\n",
       "<td>36</td>\n",
       "<td>Joost</td>\n",
       "<td>J.</td>\n",
       "<td>van den</td>\n",
       "<td>Vondel</td>\n",
       "<td>1587</td>\n",
       "<td>1679</td>\n",
       "</tr>\n",
       "<tr>\n",
       "<td>38</td>\n",
       "<td></td>\n",
       "<td>G. A.</td>\n",
       "<td></td>\n",
       "<td>Bredero</td>\n",
       "<td>1585</td>\n",
       "<td>1618</td>\n",
       "</tr>\n",
       "<tr>\n",
       "<td>48</td>\n",
       "<td>Ward</td>\n",
       "<td>W.</td>\n",
       "<td></td>\n",
       "<td>Hermans</td>\n",
       "<td></td>\n",
       "<td></td>\n",
       "</tr>\n",
       "<tr>\n",
       "<td>65</td>\n",
       "<td>Neville</td>\n",
       "<td>N.</td>\n",
       "<td></td>\n",
       "<td>Shute</td>\n",
       "<td></td>\n",
       "<td></td>\n",
       "</tr>\n",
       "<tr>\n",
       "<td>67</td>\n",
       "<td>Jonathan</td>\n",
       "<td>J.</td>\n",
       "<td></td>\n",
       "<td>Swift</td>\n",
       "<td>1667</td>\n",
       "<td>1745</td>\n",
       "</tr>\n",
       "<tr>\n",
       "<td>68</td>\n",
       "<td></td>\n",
       "<td>K.L.</td>\n",
       "<td></td>\n",
       "<td>Verhoef</td>\n",
       "<td></td>\n",
       "<td></td>\n",
       "</tr>\n",
       "<tr>\n",
       "<td>74</td>\n",
       "<td></td>\n",
       "<td>J.H.</td>\n",
       "<td></td>\n",
       "<td>Wolthers</td>\n",
       "<td></td>\n",
       "<td></td>\n",
       "</tr>\n",
       "</table>"
      ],
      "text/plain": [
       "+----------+----------+-------------+---------------+------------+----------+------------+\n",
       "| AUTEURNR | VOORNAAM | VOORLETTERS | TUSSENVOEGSEL | ACHTERNAAM | GEB_JAAR | STERF_JAAR |\n",
       "+----------+----------+-------------+---------------+------------+----------+------------+\n",
       "| 36       | Joost    | J.          | van den       | Vondel     | 1587     | 1679       |\n",
       "+----------+----------+-------------+---------------+------------+----------+------------+\n",
       "| 38       |          | G. A.       |               | Bredero    | 1585     | 1618       |\n",
       "+----------+----------+-------------+---------------+------------+----------+------------+\n",
       "| 48       | Ward     | W.          |               | Hermans    |          |            |\n",
       "+----------+----------+-------------+---------------+------------+----------+------------+\n",
       "| 65       | Neville  | N.          |               | Shute      |          |            |\n",
       "+----------+----------+-------------+---------------+------------+----------+------------+\n",
       "| 67       | Jonathan | J.          |               | Swift      | 1667     | 1745       |\n",
       "+----------+----------+-------------+---------------+------------+----------+------------+\n",
       "| 68       |          | K.L.        |               | Verhoef    |          |            |\n",
       "+----------+----------+-------------+---------------+------------+----------+------------+\n",
       "| 74       |          | J.H.        |               | Wolthers   |          |            |\n",
       "+----------+----------+-------------+---------------+------------+----------+------------+"
      ]
     },
     "execution_count": 8,
     "metadata": {},
     "output_type": "execute_result"
    }
   ],
   "source": [
    "SELECT *\n",
    "FROM AUTEURS\n",
    "WHERE geb_jaar < '1700'\n",
    "LIMIT 7;"
   ]
  },
  {
   "cell_type": "markdown",
   "id": "eb6cb4c3-830e-406e-b285-2f8ba90a26f2",
   "metadata": {},
   "source": [
    "Opmerking: bovenstaande geeft problemen! Als een auteur geen geboortedatum heeft, is dat in dit geval de lege string, in plaats van een \"NULL\" waarde. Een NULL-waarde levert in een conditie altijd FALSE op, maar de lege strint levert in een vergelijking \"<\" altijd TRUE!\n",
    "\n",
    "Dit betekent dat we extra moeten controleren op een niet-ingevulde geboortedatum - we kunnen niet zomaar uitgaan van NULL-waarden."
   ]
  },
  {
   "cell_type": "markdown",
   "id": "85270f5e-65a4-4ec4-a6e0-1d322f119058",
   "metadata": {},
   "source": [
    "Welke titels zijn beschreven in de database, maar komen niet in de bibliotheek voor?"
   ]
  }
 ],
 "metadata": {
  "kernelspec": {
   "display_name": "xsqlite",
   "language": "sqlite",
   "name": "xsqlite"
  },
  "language_info": {
   "codemirror_mode": "sql",
   "file_extension": "",
   "mimetype": "",
   "name": "sql",
   "version": "3.33.0"
  }
 },
 "nbformat": 4,
 "nbformat_minor": 5
}
