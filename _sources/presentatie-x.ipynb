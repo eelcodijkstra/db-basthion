{
 "cells": [
  {
   "cell_type": "markdown",
   "id": "dc8baa65-ada8-46d3-a0f2-ab8c99fcdf2f",
   "metadata": {
    "user_expressions": []
   },
   "source": [
    "# Presentatie"
   ]
  },
  {
   "cell_type": "markdown",
   "id": "fcd5c13f-4cc0-4471-a384-f752009f9cf2",
   "metadata": {
    "user_expressions": []
   },
   "source": [
    "Jupyter Notebook\n",
    "\n",
    "voor interactieve presentaties"
   ]
  },
  {
   "cell_type": "markdown",
   "id": "f39ebda4-8ea5-4847-b95c-801dd2b380c5",
   "metadata": {},
   "source": [
    "Nederlandse versie van Basthon (https://basthon.fr): https://jupyter.infvo.nl/books/eelco/notebook/"
   ]
  },
  {
   "cell_type": "markdown",
   "id": "5073d295-86db-4eda-a7d4-e6bb084e243d",
   "metadata": {
    "user_expressions": []
   },
   "source": [
    "# Databases met Jupyter Notebook\n",
    "\n",
    "i&i conferentie voorjaar 2023\n",
    "\n",
    "Eelco Dijkstra"
   ]
  },
  {
   "cell_type": "markdown",
   "id": "4b92636d-8c84-434a-9676-e3a8a637de66",
   "metadata": {
    "user_expressions": []
   },
   "source": [
    "## Inhoud\n",
    "\n",
    "* wat is Jupyter Notebook?\n",
    "* hoe gebruik je dit voor (Database) onderwijs?\n",
    "* hoe pas je een Notebook aan?\n",
    "* het Jupyter ecosysteem\n",
    "* keuzethema's in Jupyter"
   ]
  },
  {
   "cell_type": "markdown",
   "id": "d3427437-fa2e-40c7-8da2-e253b289b0e5",
   "metadata": {
    "user_expressions": []
   },
   "source": [
    "## Wat is Jupyter Notebook?\n",
    "\n",
    "* een Notebook bestaat uit code-cellen en tekst-cellen\n",
    "    * tekst-cel: uitleg\n",
    "    * code-cel: uitvoerbaar\n",
    "* je kunt het notebook aanpassen\n",
    "    * experimenteren met de code"
   ]
  },
  {
   "cell_type": "markdown",
   "id": "30ae9367-1ed0-4e18-bc60-675db500aaca",
   "metadata": {
    "user_expressions": []
   },
   "source": [
    "## Jupyter Notebook in het onderwijs\n",
    "\n",
    "* uitleg in het notebook\n",
    "* met interactieve voorbeelden\n",
    "    * scaffolding: zo (in)compleet als nodig \n",
    "* (en later, opdrachten en toetsvragen)"
   ]
  },
  {
   "cell_type": "markdown",
   "id": "e63bfd85-5fbc-4ef4-9e99-dd2a45684104",
   "metadata": {
    "user_expressions": []
   },
   "source": [
    "##  Interactieve presentaties met Jupyter Notebook"
   ]
  },
  {
   "cell_type": "markdown",
   "id": "677f3ac4-55e4-4c5f-9964-008028c00802",
   "metadata": {
    "user_expressions": []
   },
   "source": [
    "SELECT *\n",
    "FROM auteurs;"
   ]
  },
  {
   "cell_type": "markdown",
   "id": "443e71e8-f353-4c26-bbe5-6ed3d99df57f",
   "metadata": {
    "user_expressions": []
   },
   "source": [
    "## Cellen\n",
    "\n",
    "* cel: selecteren via cursor (single-click), pijltjes\n",
    "* cel: uitvoeren met \"pijltje\" bovenin, of Shift-Enter\n",
    "* cel: double-click: \"edit-modus\""
   ]
  },
  {
   "cell_type": "markdown",
   "id": "5615cfa7-1231-4136-8aa4-7412fa1e678c",
   "metadata": {
    "user_expressions": []
   },
   "source": [
    "## Kernel\n",
    "\n",
    "* **kernel**: voert **code-cellen** uit\n",
    "* kun je herstarten (enz.) via **kernel-menu**"
   ]
  },
  {
   "cell_type": "markdown",
   "id": "db321a5d-4007-4300-9ed7-3d576493e221",
   "metadata": {
    "user_expressions": []
   },
   "source": [
    "SELECT *\n",
    "FROM boeken;"
   ]
  },
  {
   "cell_type": "markdown",
   "id": "64bb8eef-8bba-43cf-8ce9-f9d79802870a",
   "metadata": {
    "user_expressions": []
   },
   "source": [
    "## Notebook in de browser\n",
    "\n",
    "* Jupyter-aanpak:\n",
    "    * UI in de browser\n",
    "    * kernels (en data) in de server\n",
    "* Basthon-versie:\n",
    "    * kernels (en data) in de browser\n",
    "    * \"statische website\""
   ]
  },
  {
   "cell_type": "markdown",
   "id": "e5b400eb-165a-42ba-80fc-91d5a30724bb",
   "metadata": {
    "user_expressions": []
   },
   "source": [
    "## Zelf aan de slag\n",
    "\n",
    "Database-notebook: "
   ]
  },
  {
   "cell_type": "markdown",
   "id": "58f4cc66-541e-4bd9-b663-e6c8f8dfac14",
   "metadata": {
    "user_expressions": []
   },
   "source": [
    "## Notebook aanpassen\n",
    "\n",
    "* cel editen: double-click (via Shift-Enter weer geformatteerd)\n",
    "* cel toevoegen: \"+\" in menu (en onderaan automatisch)\n",
    "* cel verplaatsen: pijltjes in menu (en copy/paste)\n",
    "* cel type aanpassen: menu Code/Markdown (of Esc-Y / Esc-M)"
   ]
  },
  {
   "cell_type": "markdown",
   "id": "7f10215b-1658-4c68-a9a4-90b2667a769b",
   "metadata": {
    "user_expressions": []
   },
   "source": [
    "## Zelf aan de slag\n",
    "\n",
    "* voeg zelf een opdracht toe\n",
    "* na aanpassing: downloaden via \"Bestand\" -> Bewaar (of \"floppy\")\n",
    "* uploaden: via \"Bestand\" -> Open\n",
    "\n",
    "(helaas: naam nog niet aan te passen...)"
   ]
  },
  {
   "cell_type": "markdown",
   "id": "de08a759-3f74-4438-abd6-42cddc320ec8",
   "metadata": {
    "user_expressions": []
   },
   "source": [
    "## Publiceren van notebook enz.\n",
    "\n",
    "* online cursus, periode mei-juni\n",
    "* publiceren van Jupyter Notebooks\n",
    "* aanpassen van Jupyter Book - lesmateriaal\n",
    "* gebruik van versiebeheer (git, GitHub)"
   ]
  },
  {
   "cell_type": "markdown",
   "id": "cfa52063-4d86-4bb8-aaf9-9b25eeac1daa",
   "metadata": {
    "user_expressions": []
   },
   "source": [
    "## Jupyter ecosysteem\n",
    "\n",
    "* Jupyter Notebook: UI (browser), kernels (server)\n",
    "    * hosting nodig - (o.a. Jupyter Hub)\n",
    "* Jupyter Lab: UI met meerdere notebooks, Markdown\n",
    "    * (idem)\n",
    "* Jupyter Book: *bundelen* van notebooks tot \"boek\"\n",
    "    * online \"boek\": statische website\n",
    "    * o.a. voor lesmateriaal\n",
    "    * uitvoerbaar via server (e.g. MyBinder)\n"
   ]
  },
  {
   "cell_type": "markdown",
   "id": "be15923b-3462-4fe1-a82a-03350f6b4e76",
   "metadata": {
    "user_expressions": []
   },
   "source": [
    "## Ontwikkelingen\n",
    "\n",
    "* kernel van server naar browser\n",
    "    * Basthon (https://basthon.fr)\n",
    "    * Jupyter Lite (https://jupyter.org/try-jupyter/lab/index.html)\n",
    "    * https://jupyterlite.readthedocs.io/en/latest/_static/lab/index.html\n",
    "* publiceren met Jupyter Book, MyST\n",
    "    * "
   ]
  },
  {
   "cell_type": "markdown",
   "id": "814606ab-955b-4ddd-b666-f6ff6f96fa81",
   "metadata": {
    "user_expressions": []
   },
   "source": [
    "## INF keuzethema's in Jupyter\n",
    "\n",
    "* INF keuzethema's: open leermaterialen\n",
    "* Jupyter Book als voorkeurs-formaat\n",
    "    * met extensies voor opdrachten en toetsvragen\n",
    "* Jupyter Book in combinatie met git (GitHub): versiebeheer"
   ]
  },
  {
   "cell_type": "markdown",
   "id": "6d795ac5-f06e-45c5-bf54-0f13b7e83bcf",
   "metadata": {
    "user_expressions": []
   },
   "source": []
  },
  {
   "cell_type": "markdown",
   "id": "92bf0286-e8e3-44d5-92d0-88d7b0ed0d50",
   "metadata": {},
   "source": []
  }
 ],
 "metadata": {
  "kernelspec": {
   "display_name": "xsqlite",
   "language": "sqlite",
   "name": "xsqlite"
  },
  "language_info": {
   "codemirror_mode": "sql",
   "file_extension": "",
   "mimetype": "",
   "name": "sql",
   "version": "3.33.0"
  }
 },
 "nbformat": 4,
 "nbformat_minor": 5
}
